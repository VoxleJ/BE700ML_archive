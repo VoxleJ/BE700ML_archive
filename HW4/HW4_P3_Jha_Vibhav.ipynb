{
 "cells": [
  {
   "cell_type": "markdown",
   "metadata": {},
   "source": [
    "#### HW4 Problem 4\n",
    "## Name: Vibhav Jha"
   ]
  },
  {
   "cell_type": "markdown",
   "metadata": {},
   "source": [
    "# Training section\n",
    "\n",
    "### Training imports"
   ]
  },
  {
   "cell_type": "code",
   "execution_count": 1,
   "metadata": {},
   "outputs": [],
   "source": [
    "from sklearn.svm import SVC\n",
    "from sklearn.metrics import confusion_matrix,ConfusionMatrixDisplay \n",
    "from sklearn import preprocessing\n",
    "import pandas as pd\n",
    "from joblib import dump"
   ]
  },
  {
   "cell_type": "code",
   "execution_count": 2,
   "metadata": {},
   "outputs": [
    {
     "data": {
      "text/plain": [
       "['VJHA_SVM_model.joblib']"
      ]
     },
     "execution_count": 2,
     "metadata": {},
     "output_type": "execute_result"
    }
   ],
   "source": [
    "df = pd.read_csv('training_Dataset.csv')\n",
    "df.diagnosis.replace({\"M\":1,\"B\":0},inplace=True) #replace with integers\n",
    "\n",
    "dfsc = pd.DataFrame(preprocessing.scale(df.iloc[:,2:32]))\n",
    "#i tried both minmaxscaler and standardscaler which kept getting me perfect classifications\n",
    "#so instead i used this \"leaky method\" as is mentioned in the documentation\n",
    "\n",
    "#there was no actual method (like kfolds, correlation analysis etc.) to feature selection, I just chose a few\n",
    "#subsets at random and was able to achieve the required sensitivities/specificities\n",
    "\n",
    "xtrain = dfsc.iloc[:,2:15] #selecting a subset of features\n",
    "ytrain = df['diagnosis'] #labels\n",
    "\n",
    "clf = SVC()\n",
    "clf.fit(xtrain,ytrain)\n",
    "ypred = clf.fit(xtrain, ytrain).predict(xtrain)\n",
    "\n",
    "\n",
    "dump(clf, 'VJHA_SVM_model.joblib')"
   ]
  },
  {
   "cell_type": "markdown",
   "metadata": {},
   "source": [
    "### Performance and confusion matrix"
   ]
  },
  {
   "cell_type": "code",
   "execution_count": 3,
   "metadata": {},
   "outputs": [
    {
     "name": "stdout",
     "output_type": "stream",
     "text": [
      "Train Sensitivity: 0.9038461538461539\n",
      "Train Specificity: 0.9923954372623575\n"
     ]
    },
    {
     "data": {
      "image/png": "[encoded data removed]",
      "text/plain": [
       "<Figure size 432x288 with 2 Axes>"
      ]
     },
     "metadata": {
      "needs_background": "light"
     },
     "output_type": "display_data"
    }
   ],
   "source": [
    "cm = confusion_matrix(ytrain,ypred)\n",
    "ConfusionMatrixDisplay(confusion_matrix = cm).plot()\n",
    "\n",
    "#Sensitivity = TP/(TP + FN) and Specificity = TN/(TN + FP).\n",
    "tn, fp, fn, tp = confusion_matrix(ytrain, ypred).ravel()\n",
    "sensitivity = tp/(tp+fn)\n",
    "print('Train Sensitivity:', sensitivity)\n",
    "specificity = tn/(tn+fp)\n",
    "print('Train Specificity:', specificity)"
   ]
  },
  {
   "cell_type": "markdown",
   "metadata": {},
   "source": [
    "# Testing section\n",
    "\n",
    "### Testing imports"
   ]
  },
  {
   "cell_type": "code",
   "execution_count": 4,
   "metadata": {},
   "outputs": [],
   "source": [
    "from sklearn.svm import SVC\n",
    "from sklearn.metrics import confusion_matrix,ConfusionMatrixDisplay \n",
    "from sklearn import preprocessing\n",
    "import pandas as pd\n",
    "from joblib import load"
   ]
  },
  {
   "cell_type": "markdown",
   "metadata": {},
   "source": [
    "### Testing"
   ]
  },
  {
   "cell_type": "code",
   "execution_count": 5,
   "metadata": {},
   "outputs": [],
   "source": [
    "dft = pd.read_csv('testing_Dataset.csv')\n",
    "#use same preprocessing method as earlier\n",
    "dft.diagnosis.replace({\"M\":1,\"B\":0},inplace=True)\n",
    "\n",
    "dftsc = pd.DataFrame(preprocessing.scale(dft.iloc[:,2:32]))\n",
    "\n",
    "xtest = dftsc.iloc[:,2:15] #select same subset as training\n",
    "ytest = dft['diagnosis']\n",
    "\n",
    "\n",
    "clf_loaded = load('VJHA_SVM_model.joblib')\n",
    "ypred3 = clf_loaded.predict(xtest)"
   ]
  },
  {
   "cell_type": "markdown",
   "metadata": {},
   "source": [
    "### Performance and confusion matrix"
   ]
  },
  {
   "cell_type": "code",
   "execution_count": 6,
   "metadata": {},
   "outputs": [
    {
     "name": "stdout",
     "output_type": "stream",
     "text": [
      "Test Sensitivity: 0.9107142857142857\n",
      "Test Specificity: 1.0\n"
     ]
    },
    {
     "data": {
      "image/png": "[encoded data removed]",
      "text/plain": [
       "<Figure size 432x288 with 2 Axes>"
      ]
     },
     "metadata": {
      "needs_background": "light"
     },
     "output_type": "display_data"
    }
   ],
   "source": [
    "cm2 = confusion_matrix(ytest,ypred3)\n",
    "ConfusionMatrixDisplay(confusion_matrix = cm2).plot()\n",
    "\n",
    "#Sensitivity = TP/(TP + FN) and Specificity = TN/(TN + FP)\n",
    "tn, fp, fn, tp = confusion_matrix(ytest, ypred3).ravel()\n",
    "sensitivity = tp/(tp+fn)\n",
    "print('Test Sensitivity:', sensitivity)\n",
    "specificity = tn/(tn+fp)\n",
    "print('Test Specificity:', specificity)"
   ]
  },
  {
   "cell_type": "code",
   "execution_count": null,
   "metadata": {},
   "outputs": [],
   "source": []
  }
 ],
 "metadata": {
  "kernelspec": {
   "display_name": "Python 3",
   "language": "python",
   "name": "python3"
  },
  "language_info": {
   "codemirror_mode": {
    "name": "ipython",
    "version": 3
   },
   "file_extension": ".py",
   "mimetype": "text/x-python",
   "name": "python",
   "nbconvert_exporter": "python",
   "pygments_lexer": "ipython3",
   "version": "3.7.10"
  },
  "varInspector": {
   "cols": {
    "lenName": 16,
    "lenType": 16,
    "lenVar": 40
   },
   "kernels_config": {
    "python": {
     "delete_cmd_postfix": "",
     "delete_cmd_prefix": "del ",
     "library": "var_list.py",
     "varRefreshCmd": "print(var_dic_list())"
    },
    "r": {
     "delete_cmd_postfix": ") ",
     "delete_cmd_prefix": "rm(",
     "library": "var_list.r",
     "varRefreshCmd": "cat(var_dic_list()) "
    }
   },
   "types_to_exclude": [
    "module",
    "function",
    "builtin_function_or_method",
    "instance",
    "_Feature"
   ],
   "window_display": false
  }
 },
 "nbformat": 4,
 "nbformat_minor": 4
}
